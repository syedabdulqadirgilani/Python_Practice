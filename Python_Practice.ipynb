{
  "nbformat": 4,
  "nbformat_minor": 0,
  "metadata": {
    "colab": {
      "name": "Python_Practice.ipynb",
      "provenance": []
    },
    "kernelspec": {
      "name": "python3",
      "display_name": "Python 3"
    },
    "language_info": {
      "name": "python"
    }
  },
  "cells": [
    {
      "cell_type": "code",
      "metadata": {
        "colab": {
          "base_uri": "https://localhost:8080/"
        },
        "id": "esDv7Z4EJjrC",
        "outputId": "c148b193-940c-46ce-d542-dc47c5f1f7ec"
      },
      "source": [
        "print(\"Hello world\")"
      ],
      "execution_count": 1,
      "outputs": [
        {
          "output_type": "stream",
          "text": [
            "Hello world\n"
          ],
          "name": "stdout"
        }
      ]
    },
    {
      "cell_type": "code",
      "metadata": {
        "colab": {
          "base_uri": "https://localhost:8080/",
          "height": 35
        },
        "id": "X4GV8X8wJwJa",
        "outputId": "7718cf52-b5f8-4797-f4c6-a1b805c925a5"
      },
      "source": [
        "# Python \n",
        "\n",
        "'''This is a \n",
        "multiline comment\n",
        "\n",
        "'''"
      ],
      "execution_count": 2,
      "outputs": [
        {
          "output_type": "execute_result",
          "data": {
            "application/vnd.google.colaboratory.intrinsic+json": {
              "type": "string"
            },
            "text/plain": [
              "'This is a \\nmultiline comment\\n\\n'"
            ]
          },
          "metadata": {
            "tags": []
          },
          "execution_count": 2
        }
      ]
    },
    {
      "cell_type": "code",
      "metadata": {
        "id": "GDBA1uZHJ3nN"
      },
      "source": [
        "sttr = 'String'\n",
        "age = 21\n",
        "weight = 75.5"
      ],
      "execution_count": 3,
      "outputs": []
    },
    {
      "cell_type": "code",
      "metadata": {
        "colab": {
          "base_uri": "https://localhost:8080/"
        },
        "id": "qDDPyNbvJ8Q2",
        "outputId": "da10d235-6dd0-4fdb-d738-47e0c3330c43"
      },
      "source": [
        "print( 3+5)\n",
        "print(  3-5)\n",
        "print( 3*5)\n",
        "print(15/5)\n",
        "print( 3**5)\n",
        "print( 14//5)\n",
        "81*3"
      ],
      "execution_count": 8,
      "outputs": [
        {
          "output_type": "stream",
          "text": [
            "8\n",
            "-2\n",
            "15\n",
            "3.0\n",
            "243\n",
            "2\n"
          ],
          "name": "stdout"
        },
        {
          "output_type": "execute_result",
          "data": {
            "text/plain": [
              "243"
            ]
          },
          "metadata": {
            "tags": []
          },
          "execution_count": 8
        }
      ]
    },
    {
      "cell_type": "code",
      "metadata": {
        "colab": {
          "base_uri": "https://localhost:8080/"
        },
        "id": "_q24o6-iKNo6",
        "outputId": "37cf144f-cc11-40c7-861d-b96021242c32"
      },
      "source": [
        "print(\"This is a \\'\")"
      ],
      "execution_count": 10,
      "outputs": [
        {
          "output_type": "stream",
          "text": [
            "This is a '\n"
          ],
          "name": "stdout"
        }
      ]
    },
    {
      "cell_type": "code",
      "metadata": {
        "colab": {
          "base_uri": "https://localhost:8080/"
        },
        "id": "t45h7o6wKbxG",
        "outputId": "9dfef917-7e97-4ee7-8b05-b80b02950d14"
      },
      "source": [
        "ml = ''' this is a multiline\n",
        "string and this will keep \n",
        "going\n",
        "'''\n",
        "print(ml)"
      ],
      "execution_count": 11,
      "outputs": [
        {
          "output_type": "stream",
          "text": [
            " this is a multiline\n",
            "string and this will keep \n",
            "going\n",
            "\n"
          ],
          "name": "stdout"
        }
      ]
    },
    {
      "cell_type": "code",
      "metadata": {
        "colab": {
          "base_uri": "https://localhost:8080/"
        },
        "id": "29lcCUZoKhg8",
        "outputId": "d5b1d88d-b076-46f8-a407-4ea59baa6428"
      },
      "source": [
        "print('this is print statement 1', end=\",\")\n",
        "print('this is print statement 2')\n",
        "print(\"this \"*10)"
      ],
      "execution_count": 15,
      "outputs": [
        {
          "output_type": "stream",
          "text": [
            "this is print statement 1,this is print statement 2\n",
            "this this this this this this this this this this \n"
          ],
          "name": "stdout"
        }
      ]
    },
    {
      "cell_type": "code",
      "metadata": {
        "colab": {
          "base_uri": "https://localhost:8080/"
        },
        "id": "nh4m-uqkKolP",
        "outputId": "d1d95a65-9f78-4354-a13c-f863d576f571"
      },
      "source": [
        "# Lists\n",
        "colleges = ['College of engineering','A','B','C']\n",
        "print(colleges[0])\n",
        "colleges[2] = \"COE\"\n",
        "print(colleges[2])\n",
        "print(colleges)\n",
        "print(colleges[1:3])\n",
        "list2 = ['table', 'chair', 'fan', 'clothes', 'bottle']"
      ],
      "execution_count": 16,
      "outputs": [
        {
          "output_type": "stream",
          "text": [
            "College of engineering\n",
            "COE\n",
            "['College of engineering', 'A', 'COE', 'C']\n",
            "['A', 'COE']\n"
          ],
          "name": "stdout"
        }
      ]
    },
    {
      "cell_type": "code",
      "metadata": {
        "colab": {
          "base_uri": "https://localhost:8080/"
        },
        "id": "k7yDF0DBK5nY",
        "outputId": "ef8a5cf1-099b-4319-8d3a-ee3b6ea5ad96"
      },
      "source": [
        "list2.append('microphone')\n",
        "list2.insert(3, 'speaker')\n",
        "print(list2)\n",
        "list2.remove('microphone')\n",
        "print(list2 + ['pillow', 'tubelight', 'bed'])\n",
        "print(list2)\n",
        "print(len(list2))\n",
        "print(max(list2))\n",
        "print(min(list2))\n"
      ],
      "execution_count": 18,
      "outputs": [
        {
          "output_type": "stream",
          "text": [
            "['table', 'chair', 'fan', 'speaker', 'clothes', 'bottle', 'microphone', 'microphone']\n",
            "['table', 'chair', 'fan', 'speaker', 'clothes', 'bottle', 'microphone', 'pillow', 'tubelight', 'bed']\n",
            "['table', 'chair', 'fan', 'speaker', 'clothes', 'bottle', 'microphone']\n",
            "7\n",
            "table\n",
            "bottle\n"
          ],
          "name": "stdout"
        }
      ]
    },
    {
      "cell_type": "code",
      "metadata": {
        "colab": {
          "base_uri": "https://localhost:8080/"
        },
        "id": "XHALKpTNLDbN",
        "outputId": "5884b37c-d3bb-4fec-b1f1-64f4e340f756"
      },
      "source": [
        "# Tuples\n",
        "tupple1 = (1, 2, 3)\n",
        "list1 = list(tupple1)\n",
        "print(list1)\n",
        "print(tupple1[0])"
      ],
      "execution_count": 19,
      "outputs": [
        {
          "output_type": "stream",
          "text": [
            "[1, 2, 3]\n",
            "1\n"
          ],
          "name": "stdout"
        }
      ]
    },
    {
      "cell_type": "code",
      "metadata": {
        "colab": {
          "base_uri": "https://localhost:8080/"
        },
        "id": "7bE_GFq4LiWj",
        "outputId": "c6adffd5-f680-4dea-87d1-6c553f101d3b"
      },
      "source": [
        "# Dictionaries\n",
        "\n",
        "names = {'Ali': 22,\n",
        "         'AR': 41,\n",
        "         'AQ': 19,\n",
        "         'SG': 82}\n",
        "\n",
        "print(names['SG'])\n",
        "names['AR'] = 55\n",
        "print(names['AR'])\n",
        "print(names.keys())\n",
        "print(names.values())"
      ],
      "execution_count": 20,
      "outputs": [
        {
          "output_type": "stream",
          "text": [
            "82\n",
            "55\n",
            "dict_keys(['Ali', 'AR', 'AQ', 'SG'])\n",
            "dict_values([22, 55, 19, 82])\n"
          ],
          "name": "stdout"
        }
      ]
    },
    {
      "cell_type": "code",
      "metadata": {
        "colab": {
          "base_uri": "https://localhost:8080/"
        },
        "id": "ztLnf2ArLu-g",
        "outputId": "c36854e9-9de9-43e3-f15a-c215a0a3ea8b"
      },
      "source": [
        "print(\"Enter Your Marks\")\n",
        "number= int(input())\n",
        "print(number)\n",
        "if (number>90 or number<100):\n",
        "    grade = 'A'\n",
        "elif (number>80 and number<100):\n",
        "    grade = 'B'\n",
        "else:\n",
        "    grade = 'Dont Know'\n",
        "\n",
        "print(\"The grade is\", grade)"
      ],
      "execution_count": 22,
      "outputs": [
        {
          "output_type": "stream",
          "text": [
            "Enter Your Marks\n",
            "50\n",
            "50\n",
            "The grade is A\n"
          ],
          "name": "stdout"
        }
      ]
    },
    {
      "cell_type": "code",
      "metadata": {
        "colab": {
          "base_uri": "https://localhost:8080/"
        },
        "id": "9rStEFheL6gI",
        "outputId": "c265f705-4383-4d67-95e9-6569099b13cc"
      },
      "source": [
        "print(\"How many times we  want to execute\")\n",
        "no = int(input())\n",
        "for i in range(0,no):\n",
        "    print(i)\n",
        "list1 =[[1,2,3], [4,5,6], [7,8,9]]\n",
        "for item in list1:\n",
        "    for i in item:\n",
        "        print(i)"
      ],
      "execution_count": 23,
      "outputs": [
        {
          "output_type": "stream",
          "text": [
            "How many times we  want to execute\n",
            "10\n",
            "0\n",
            "1\n",
            "2\n",
            "3\n",
            "4\n",
            "5\n",
            "6\n",
            "7\n",
            "8\n",
            "9\n",
            "1\n",
            "2\n",
            "3\n",
            "4\n",
            "5\n",
            "6\n",
            "7\n",
            "8\n",
            "9\n"
          ],
          "name": "stdout"
        }
      ]
    },
    {
      "cell_type": "code",
      "metadata": {
        "colab": {
          "base_uri": "https://localhost:8080/"
        },
        "id": "dZfm-48pMITy",
        "outputId": "a67b7918-506d-4f08-a77a-a8166d73918b"
      },
      "source": [
        "def average(num1, num2):\n",
        "    return (num1+num2)/2\n",
        "\n",
        "print(average(2, 3))"
      ],
      "execution_count": 24,
      "outputs": [
        {
          "output_type": "stream",
          "text": [
            "2.5\n"
          ],
          "name": "stdout"
        }
      ]
    },
    {
      "cell_type": "code",
      "metadata": {
        "colab": {
          "base_uri": "https://localhost:8080/"
        },
        "id": "p2RCY6a1MOov",
        "outputId": "df442e82-badd-4c65-e050-b40122219264"
      },
      "source": [
        "string1 = \"that's\"\n",
        "print(string1[0:2])\n",
        "print(string1[-2:])\n",
        "print(string1[:-2])\n",
        "print(string1.capitalize())\n",
        "print(string1.find(\"th\"))\n",
        "print(string1.replace(\"'s\", \"are\"))"
      ],
      "execution_count": 27,
      "outputs": [
        {
          "output_type": "stream",
          "text": [
            "th\n",
            "'s\n",
            "that\n",
            "That's\n",
            "0\n",
            "thatare\n"
          ],
          "name": "stdout"
        }
      ]
    },
    {
      "cell_type": "code",
      "metadata": {
        "id": "lyQTgKRZMxik"
      },
      "source": [
        ""
      ],
      "execution_count": null,
      "outputs": []
    },
    {
      "cell_type": "code",
      "metadata": {
        "id": "GqKo0nIfMTDw"
      },
      "source": [
        ""
      ],
      "execution_count": null,
      "outputs": []
    }
  ]
}